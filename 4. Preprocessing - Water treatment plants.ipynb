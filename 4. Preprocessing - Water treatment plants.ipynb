{
 "cells": [
  {
   "cell_type": "markdown",
   "id": "ab544e24",
   "metadata": {},
   "source": [
    "# Preprocessing: Water treatment plants"
   ]
  },
  {
   "cell_type": "markdown",
   "id": "7339f6d8",
   "metadata": {},
   "source": [
    "**Objective**: Prepare data from the **MERKUR** dataset for use in machine learning algorithms.\n",
    "\n",
    "**Background**: The MERKUR project, based in the *Research Centre for Built Environment, Climate, Water Technology and Digitalisation* at VIA University College, collects and analyzes data from water treatment plants in Denmark. In short, the project aims to understand how water treatment plants are run, and the results are then ideally used to optimize the running of water treatment plants. However, the dataset is, as of now, relatively \"dirty\" in a machine learning context: There are many missing values, outliers, a mix of categorical and numeric data, etc.\n",
    "\n",
    "**Data Source**: The dataset has kindly been provided to us by Senior Associate Professor Loren Mark Ramsay. You can read more [here](https://en.via.dk/research/built-environment-climate-water-technology-and-digitalisation/water-treatment-and-distribution) and [here](https://www.ucviden.dk/en/projects/merkur-national-web-baseret-dataplatform-til-drikkevandsbehandlin).\n",
    "\n",
    "Note that we are only working with a subset of the full database. This subset is saved as an Excel file, `merkur.xlsx`.\n",
    "\n",
    "#### Overall Instructions\n",
    "1. Explore the dataset to understand the features and their distributions.\n",
    "2. Preprocess the data, handling any missing values, outliers, etc.\n",
    "\n",
    "Below some suggestions are given but the assignment is relatively \"free\".\n",
    "\n",
    "Best of luck with your analysis!"
   ]
  },
  {
   "cell_type": "code",
   "execution_count": 3,
   "id": "7517fbba",
   "metadata": {
    "scrolled": true
   },
   "outputs": [],
   "source": [
    "import pandas as pd\n",
    "df = pd.read_excel(r\"merkur.xlsx\")\n"
   ]
  },
  {
   "cell_type": "markdown",
   "id": "fbd441e7",
   "metadata": {},
   "source": [
    "### Suggestions\n",
    "\n",
    "-  Filter out (i.e. remove) any irrelevant columns (e.g. names, IDs, etc.)\n",
    "-  Several columns contain missing values (NaNs). Find out how large a percentage each column is missing. Perhaps some of them lack so much data that you should consider removing them?\n",
    "-  Scale numeric data.\n",
    "-  For the features you choose to keep, impute the missing values in an appropriate way - or perhaps you find it more appropriate to delete the rows?\n",
    "-  Several features (e.g., \"PrimaryTrigger\") are categorical. Use one-hot encoding to turn them into numeric data. Be careful with the feature \"Stages\" - perhaps one-hot encoding is not the best choice here?\n",
    "-  If you you choose to remove or replace outliers, do this now. If you choose to keep, move on.\n",
    "-  Create a correlation matrix and discuss - based on this, you might want to drop certain columns.\n",
    "-  Consider whether some features should be transformed (e.g. using log, square root etc.) and do this if found relevant.\n",
    "-  There are only about 80 rows in the data set. Discuss consequences of this in terms of machine learning - as well as potential solutions. \n",
    "-  Think about whether there are other steps you find appropriate at this point. If not, declare your data set clean."
   ]
  },
  {
   "cell_type": "code",
   "execution_count": null,
   "id": "b07ffd9c",
   "metadata": {},
   "outputs": [],
   "source": [
    "import seaborn as sns\n",
    "import matplotlib.pyplot as plt\n",
    "\n",
    "# 1. Visualize missing values with a heatmap\n",
    "plt.figure(figsize=(12, 6))\n",
    "sns.heatmap(df.isnull(), cbar=False, cmap='viridis')\n",
    "plt.title('Missing Values Heatmap')\n",
    "plt.show()\n",
    "\n",
    "# 2. Visualize data types\n",
    "plt.figure(figsize=(10, 6))\n",
    "df.dtypes.value_counts().plot(kind='bar', color='skyblue')\n",
    "plt.title('Data Types Distribution')\n",
    "plt.xlabel('Data Type')\n",
    "plt.ylabel('Count')\n",
    "plt.xticks(rotation=45)\n",
    "plt.show()\n",
    "\n",
    "# 3. Display summary statistics\n",
    "summary_stats = df.describe(include='all')  # Include all types\n",
    "print(\"Summary Statistics:\")\n",
    "print(summary_stats)\n",
    "\n",
    "# 4. Plot histograms for numeric columns with dynamic layout\n",
    "numeric_cols = df.select_dtypes(include=['float64', 'int64']).columns\n",
    "\n",
    "# Calculate the number of rows and columns for the subplots\n",
    "num_cols = 3  # Number of columns for subplots\n",
    "num_rows = (len(numeric_cols) + num_cols - 1) // num_cols  # Ceiling division for rows\n",
    "\n",
    "# Create subplots\n",
    "fig, axes = plt.subplots(num_rows, num_cols, figsize=(15, num_rows * 5))\n",
    "axes = axes.flatten()  # Flatten the axes array for easy indexing\n",
    "\n",
    "# Plot histograms\n",
    "for ax, col in zip(axes, numeric_cols):\n",
    "    df[col].hist(bins=30, ax=ax)\n",
    "    ax.set_title(col)\n",
    "    ax.set_xlabel('Value')\n",
    "    ax.set_ylabel('Frequency')\n",
    "\n",
    "# Hide any unused subplots\n",
    "for i in range(len(numeric_cols), len(axes)):\n",
    "    fig.delaxes(axes[i])\n",
    "\n",
    "plt.tight_layout()\n",
    "plt.show()\n",
    "\n"
   ]
  },
  {
   "cell_type": "code",
   "execution_count": 20,
   "id": "57791cd5",
   "metadata": {},
   "outputs": [
    {
     "name": "stdout",
     "output_type": "stream",
     "text": [
      "\n",
      "Columns with more than 50% missing values:\n",
      "['WaterworksName', 'PrimaryTrigger', 'AerationType', 'GravityPressureMixed', 'Stages']\n",
      "\n",
      "Updated dataset saved, with columns having over 50% missing values removed.\n"
     ]
    }
   ],
   "source": [
    "import pandas as pd\n",
    "\n",
    "# Load the dataset\n",
    "df = pd.read_excel(\"cleaned_merkur.xlsx\")\n",
    "\n",
    "# Calculate the percentage of missing values in each column\n",
    "missing_percentages = df.isna().mean() * 100\n",
    "\n",
    "# Identify columns where missing percentage is high (e.g., above 50%)\n",
    "high_missing_columns = missing_percentages[missing_percentages > 50].index.tolist()\n",
    "print(\"\\nColumns with more than 50% missing values:\")\n",
    "print(high_missing_columns)\n",
    "# Drop columns with more than 50% missing values\n",
    "df.drop(columns=high_missing_columns, inplace=True)\n",
    "\n",
    "# Save the updated dataset\n",
    "df.to_excel(\"cleaned_merkur.xlsx\", index=False)\n",
    "print(\"\\nUpdated dataset saved, with columns having over 50% missing values removed.\")\n"
   ]
  }
 ],
 "metadata": {
  "kernelspec": {
   "display_name": "Python 3",
   "language": "python",
   "name": "python3"
  },
  "language_info": {
   "codemirror_mode": {
    "name": "ipython",
    "version": 3
   },
   "file_extension": ".py",
   "mimetype": "text/x-python",
   "name": "python",
   "nbconvert_exporter": "python",
   "pygments_lexer": "ipython3",
   "version": "3.12.0"
  }
 },
 "nbformat": 4,
 "nbformat_minor": 5
}
